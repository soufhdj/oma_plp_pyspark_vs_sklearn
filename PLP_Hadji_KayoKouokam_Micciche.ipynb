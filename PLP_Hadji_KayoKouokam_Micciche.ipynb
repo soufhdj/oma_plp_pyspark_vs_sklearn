{
 "cells": [
  {
   "cell_type": "markdown",
   "metadata": {},
   "source": [
    "# Libraries"
   ]
  },
  {
   "cell_type": "code",
   "execution_count": 11,
   "metadata": {},
   "outputs": [],
   "source": [
    "#General\n",
    "import csv\n",
    "import pandas as pd\n",
    "from bs4 import BeautifulSoup \n",
    "from nltk.corpus import stopwords\n",
    "import numpy as np\n",
    "import time\n",
    "import matplotlib.pyplot as plt\n",
    "\n",
    "#Sklearn\n",
    "from sklearn.linear_model import LogisticRegression\n",
    "from sklearn.feature_extraction.text import TfidfVectorizer\n",
    "from sklearn.metrics import accuracy_score\n",
    "from sklearn.feature_extraction.text import HashingVectorizer\n",
    "\n",
    "#Spark\n",
    "import pyspark \n",
    "from pyspark.sql import SparkSession\n",
    "from pyspark.sql import SparkSession\n",
    "import pyspark.sql.functions as F\n",
    "import pyspark.sql.types as T\n",
    "# Text processing\n",
    "from pyspark.ml.feature import Tokenizer, HashingTF, IDF, StopWordsRemover\n",
    "# Prediction model parameters\n",
    "from pyspark.ml.classification import LogisticRegression as LogisticRegressionSpark\n",
    "from pyspark.ml.tuning import ParamGridBuilder, TrainValidationSplit\n",
    "# Prediction model evaluation\n",
    "from pyspark.mllib.evaluation import MulticlassMetrics\n",
    "from pyspark.mllib.evaluation import BinaryClassificationMetrics\n",
    "from pyspark.ml.evaluation import MulticlassClassificationEvaluator"
   ]
  },
  {
   "cell_type": "markdown",
   "metadata": {},
   "source": [
    "# PYTHON ALGORITHM"
   ]
  },
  {
   "cell_type": "markdown",
   "metadata": {},
   "source": [
    "### Function Definition"
   ]
  },
  {
   "cell_type": "code",
   "execution_count": 2,
   "metadata": {
    "collapsed": true
   },
   "outputs": [],
   "source": [
    "#loading the data and limit\n",
    "#Limit is the limit size of the data\n",
    "def load_data(path, limit):\n",
    "    \n",
    "    #LOAD FILE\n",
    "    data = pd.read_csv(str(path))\n",
    "    #Limit the data\n",
    "    data = data.head(limit)\n",
    "    \n",
    "    \n",
    "    return data\n",
    "\n",
    "\n",
    "#Stop words and lowercase\n",
    "#This function is used in clean_data\n",
    "def clean_txt(txt, stopwords_nltk):\n",
    "    txt = BeautifulSoup(txt,\"html.parser\",from_encoding='utf_8').get_text()\n",
    "    txt = txt.lower()\n",
    "    \n",
    "    ### remove french stop words\n",
    "    querywords = txt.split()\n",
    "    txt  = [word for word in querywords if word not in stopwords_nltk] \n",
    "    \n",
    "    return(txt)\n",
    "\n",
    "#Cleaning the data \n",
    "#Remove \\n lowercase and stopwords (using clean_txt)\n",
    "def clean_data(data, stopwords_nltk):\n",
    "    \n",
    "    #REPLACE '\\n' by ' '\n",
    "    data['comment_text'] = data['comment_text'].replace(r'\\n',' ', regex=True)\n",
    "    \n",
    "    #Lowercase and stopwords\n",
    "    data['comment_text'] = data['comment_text'].apply(lambda x: clean_txt(x, stopwords_nltk))\n",
    "    \n",
    "    return data\n",
    "\n",
    "#Function used to tokenize\n",
    "def identity_tokenizer(text):\n",
    "        return text\n",
    "\n",
    "#Train/Test division and tokenize \n",
    "#Threshold is the Test/Train division threshold (75/25)\n",
    "#If hashing is 'yes' -> Vectorizer is hashing, else it is Tfidf\n",
    "#If hashing is 'yes' -> num_features is the n_hash of hashing\n",
    "def train_test_tokenizer(data, threshold, hashing, num_features):\n",
    "    \n",
    "    #List of labels\n",
    "    labels = [col for col in list(data.columns) if col not in [\"id\", \"comment_text\"]]\n",
    "    \n",
    "    #Train/Test division\n",
    "    data['rand'] = np.random.randint(1, 100, data.shape[0])\n",
    "    data_test = data.loc[data['rand']>75][[col for col in data.columns \n",
    "                                                               if col not in ['rand']]].reset_index(drop=True)\n",
    "    data_train = data.loc[data['rand']<=75][[col for col in data.columns \n",
    "                                                                 if col not in ['rand']]].reset_index(drop=True)\n",
    "\n",
    "    #Transform the sentences - TF IDF\n",
    "\n",
    "    if hashing == 'yes':\n",
    "        vectorizer = HashingVectorizer(tokenizer=identity_tokenizer, lowercase = False, n_features=num_features)\n",
    "    else :\n",
    "        vectorizer = TfidfVectorizer(tokenizer=identity_tokenizer, lowercase = False)\n",
    "    response = vectorizer.fit_transform(data_train['comment_text'].values)\n",
    "    data_transform_train = pd.DataFrame(response.todense()) #Put it in a dataframe\n",
    "    data_transform_train = pd.concat([data_transform_train, data_train[labels]], axis = 1) #Join features and labels\n",
    "    response = vectorizer.transform(data_test['comment_text'].values)\n",
    "    data_transform_test = pd.DataFrame(response.todense()) #Put it in a dataframe\n",
    "    data_transform_test = pd.concat([data_transform_test, data_test[labels]], axis = 1) #Join features and labels\n",
    "\n",
    "    X_train = data_transform_train[[col for col in data_transform_train.columns if col not in labels]]\n",
    "    Y_train = data_transform_train[[col for col in labels]]\n",
    "\n",
    "    X_test = data_transform_test[[col for col in data_transform_test.columns if col not in labels]]\n",
    "    Y_test = data_transform_test[[col for col in labels]]\n",
    "    \n",
    "    return X_train, Y_train, X_test, Y_test\n",
    "\n",
    "#For each labels, it fit and predict and show accuracy on test set\n",
    "def fit_score(X_train, Y_train, X_test, Y_test, reg, n_process):\n",
    "    \n",
    "    labels = [col for col in Y_train.columns]\n",
    "        \n",
    "    for col in labels:\n",
    "        print(col)\n",
    "        lr = LogisticRegression(C = reg, solver='lbfgs', n_jobs = n_process)\n",
    "        print(\"...fitting\")\n",
    "        lrModel = lr.fit(X_train.values, Y_train[str(col)].values)\n",
    "        print(\"...predicting\")\n",
    "        res = lrModel.predict(X_test.values)\n",
    "        print(\"...accuracy result\")\n",
    "        acc = accuracy_score(Y_test[str(col)], res)\n",
    "        print(\"%.3f\" % acc)\n",
    "\n",
    "    print('\\n END \\n')\n",
    "\n",
    "#Final function which put together all functions \n",
    "#path : Path of the data ; limit : limit for the data ; threshold : train/test division \n",
    "#hashing : yes for hashing else tfidf ; num_features : n_hash of hashing ; \n",
    "#reg : logistic regression parameter\n",
    "def prediction_time(path, limit, threshold, hashing, num_features, reg, stopwords_nltk, n_process):\n",
    "\n",
    "    #RECORDING TOTAL TIME\n",
    "    total_time = time.time()\n",
    "\n",
    "    #LOAD DATA\n",
    "    data = load_data(path, limit)\n",
    "    print('LOAD DATA ----- OK \\n')\n",
    "\n",
    "    #SHOW DATA\n",
    "    print(\"DATA VISUALISATION\")\n",
    "    print(data.head(2))\n",
    "\n",
    "    #CLEAN DATA\n",
    "    clean_time = time.time()\n",
    "    data = clean_data(data, stopwords_nltk)\n",
    "    clean_time = time.time() - clean_time\n",
    "\n",
    "    #TOKENIZE + TRAIN/TEST DIVISION\n",
    "    tfidf_time = time.time()\n",
    "    X_train, Y_train, X_test, Y_test = train_test_tokenizer(data, threshold, hashing, num_features)\n",
    "    tfidf_time = time.time() - tfidf_time \n",
    "    print('CLEAN + TF-IDF ----- OK')\n",
    "\n",
    "    #Pediction and accuracy \n",
    "    prediction_time = time.time()\n",
    "    fit_score(X_train, Y_train, X_test, Y_test, reg, n_process)\n",
    "\n",
    "    #PRINT TIME\n",
    "    print('Total time : ', \"{0:.2f}\".format((time.time()-total_time)), 'sec')\n",
    "    print('Clean time : ', \"{0:.2f}\".format(clean_time), 'sec')\n",
    "    print('TF-IDF time : ', \"{0:.2f}\".format(tfidf_time), 'sec')\n",
    "    print('Prediction time : ', \"{0:.2f}\".format((time.time()-prediction_time)), 'sec')"
   ]
  },
  {
   "cell_type": "markdown",
   "metadata": {},
   "source": [
    "### Running the algorithm\n",
    "\n",
    "> prediction_time function takes parameters of the data and parameters about cleaning, vectorization and\n",
    "> prediction as input and it returns different running times (Total time, cleaning time, vectorization time \n",
    "> and learning time) and accuracies as output\n",
    "\n",
    "> Input :\n",
    ">> limit : Limit size of the data (take limit first rows)\n",
    "\n",
    ">> reg : Logistic regression parameter\n",
    "\n",
    ">> hashing : 'yes' for hashing vectorization, else for TF-IDF\n",
    "\n",
    ">> num_features : n_hash, limit number of features\n",
    "\n",
    ">> path : Path of the data\n",
    "\n",
    ">> threshold : Threshold for Train/Test division used for learning part (75/25)\n",
    "\n",
    ">> stopwords_nltk : Stop Words function used for cleaning\n",
    "\n",
    ">> n_process : n_jobs parameter for Logistic Regression\n"
   ]
  },
  {
   "cell_type": "code",
   "execution_count": 3,
   "metadata": {},
   "outputs": [
    {
     "name": "stdout",
     "output_type": "stream",
     "text": [
      "LOAD DATA ----- OK \n",
      "\n",
      "DATA VISUALISATION\n",
      "                 id                                       comment_text  toxic  \\\n",
      "0  0000997932d777bf  Explanation\\nWhy the edits made under my usern...      0   \n",
      "1  000103f0d9cfb60f  D'aww! He matches this background colour I'm s...      0   \n",
      "\n",
      "   severe_toxic  obscene  threat  insult  identity_hate  \n",
      "0             0        0       0       0              0  \n",
      "1             0        0       0       0              0  \n"
     ]
    },
    {
     "name": "stderr",
     "output_type": "stream",
     "text": [
      "/Applications/anaconda3/lib/python3.6/site-packages/bs4/__init__.py:146: UserWarning: You provided Unicode markup but also provided a value for from_encoding. Your from_encoding will be ignored.\n",
      "  warnings.warn(\"You provided Unicode markup but also provided a value for from_encoding. Your from_encoding will be ignored.\")\n"
     ]
    },
    {
     "name": "stdout",
     "output_type": "stream",
     "text": [
      "CLEAN + TF-IDF ----- OK\n",
      "toxic\n",
      "...fitting\n",
      "...predicting\n",
      "...accuracy result\n",
      "0.926\n",
      "severe_toxic\n",
      "...fitting\n",
      "...predicting\n",
      "...accuracy result\n",
      "0.990\n",
      "obscene\n",
      "...fitting\n",
      "...predicting\n",
      "...accuracy result\n",
      "0.965\n",
      "threat\n",
      "...fitting\n",
      "...predicting\n",
      "...accuracy result\n",
      "0.997\n",
      "insult\n",
      "...fitting\n",
      "...predicting\n",
      "...accuracy result\n",
      "0.960\n",
      "identity_hate\n",
      "...fitting\n",
      "...predicting\n",
      "...accuracy result\n",
      "0.992\n",
      "\n",
      " END \n",
      "\n",
      "Total time :  22.78 sec\n",
      "Clean time :  6.96 sec\n",
      "TF-IDF time :  1.30 sec\n",
      "Prediction time :  13.57 sec\n"
     ]
    }
   ],
   "source": [
    "# CHOOSE PARAMETERS\n",
    "limit = 30000 #limit file\n",
    "reg = 1.0 #regularization for logistic regression\n",
    "hashing = 'yes' #yes if hashing, else tf-idf\n",
    "num_features = 1000\n",
    "path = '/Users/Carmemac/Desktop/all/train.csv'\n",
    "threshold = 75 #Div Train Test\n",
    "stopwords_nltk = stopwords.words('english')\n",
    "n_process = None\n",
    "\n",
    "#PREDICTION\n",
    "prediction_time(path, limit, threshold, hashing, num_features, reg, stopwords_nltk, n_process)"
   ]
  },
  {
   "cell_type": "markdown",
   "metadata": {},
   "source": [
    "# SPARK ALGORITHM"
   ]
  },
  {
   "cell_type": "markdown",
   "metadata": {},
   "source": [
    "### Environment Definition"
   ]
  },
  {
   "cell_type": "code",
   "execution_count": 4,
   "metadata": {},
   "outputs": [
    {
     "data": {
      "text/plain": [
       "'2.4.0'"
      ]
     },
     "execution_count": 4,
     "metadata": {},
     "output_type": "execute_result"
    }
   ],
   "source": [
    "spark = SparkSession.builder.getOrCreate()\n",
    "sc = (SparkSession.builder\n",
    "                  .appName('PLP Project')\n",
    "                  .enableHiveSupport()\n",
    "                  .config(\"spark.executor.memory\", \"4G\")\n",
    "                  .config(\"spark.driver.memory\",\"18G\")\n",
    "                  .config(\"spark.executor.cores\",\"7\")\n",
    "                  .config(\"spark.python.worker.memory\",\"4G\")\n",
    "                  .config(\"spark.driver.maxResultSize\",\"0\")\n",
    "                  .config(\"spark.sql.crossJoin.enabled\", \"true\")\n",
    "                  .config(\"spark.serializer\",\"org.apache.spark.serializer.KryoSerializer\")\n",
    "                  .config(\"spark.default.parallelism\",\"2\")\n",
    "                  .config('spark.executor.instances', '8')\n",
    "                  .getOrCreate())\n",
    "sc.version"
   ]
  },
  {
   "cell_type": "markdown",
   "metadata": {},
   "source": [
    "### Function Definition"
   ]
  },
  {
   "cell_type": "code",
   "execution_count": 5,
   "metadata": {
    "collapsed": true
   },
   "outputs": [],
   "source": [
    "#Load and convert the data into Spark DataFrame\n",
    "def convert_to_spark_df(path):\n",
    "    \"\"\"   \n",
    "    Input:\n",
    "    file : csv file to read\n",
    "        \n",
    "    Output:\n",
    "    df : a spark DataFrame containing the parsed csv data.\n",
    "    \"\"\"\n",
    "    \n",
    "    df = pd.read_csv(path)\n",
    "    df.fillna(\"\", inplace=True)\n",
    "    df = sc.createDataFrame(df)\n",
    "    return(df)\n",
    "\n",
    "#Return running time for each part (cleaning, vectorization, learning) and accuracies\n",
    "def get_time_and_error(data, nb_samples, num_features):\n",
    "    print(\"Number of samples\", nb_samples)\n",
    "    print(\"Number of features\", num_features)\n",
    "    \n",
    "    # Getting data\n",
    "    data_reduced = data.limit(nb_samples)\n",
    "    train, test = data_reduced.randomSplit([0.75, 0.25], seed=12345)\n",
    "    columns = [col for col in train.columns if col not in [\"id\", \"comment_text\"]]\n",
    "    print(\"Number of comments in the training set:\", train.count())\n",
    "    print(\"Number of comments in the test set:\", test.count())\n",
    "    \n",
    "    # Tokenization\n",
    "    time_init_1 = time.time()\n",
    "    tokenizer = Tokenizer(inputCol=\"comment_text\", outputCol=\"words\")\n",
    "    train_tokens = tokenizer.transform(train)\n",
    "    test_tokens = tokenizer.transform(test)\n",
    "    time_fin_1 = time.time()\n",
    "    print('Tokenization time in seconds :', (time_fin_1 - time_init_1))\n",
    "\n",
    "    # Cleaning: removing stopwords\n",
    "    time_init_2 = time.time()\n",
    "    remover = StopWordsRemover(inputCol=\"words\", outputCol=\"words_filtered\")\n",
    "    train_tokens_clean = remover.transform(train_tokens)\n",
    "    test_tokens_clean = remover.transform(test_tokens)\n",
    "    time_fin_2 = time.time()\n",
    "    print('Cleaning time in seconds :', (time_fin_2 - time_init_2))\n",
    "\n",
    "    # Hashing TF\n",
    "    time_init_3 = time.time()\n",
    "    hashingTF = HashingTF(inputCol=\"words_filtered\", outputCol=\"feats\", numFeatures = num_features)\n",
    "    train_tf = hashingTF.transform(train_tokens_clean)\n",
    "    test_tf = hashingTF.transform(test_tokens_clean)\n",
    "    time_fin_3 = time.time()\n",
    "    print('HashingTF time in seconds :', (time_fin_3 - time_init_3))\n",
    "\n",
    "    # IDF\n",
    "    time_init_4 = time.time()\n",
    "    idf = IDF(inputCol=\"feats\", outputCol=\"features\")\n",
    "    idfModel = idf.fit(train_tf) \n",
    "    train_tfidf = idfModel.transform(train_tf)\n",
    "    test_tfidf = idfModel.transform(test_tf)\n",
    "    time_fin_4 = time.time()\n",
    "    print('IDF time in seconds :', (time_fin_4 - time_init_4))\n",
    "    \n",
    "    # Prediction: logistic regression\n",
    "    time_init_5 = time.time()\n",
    "    errors = []\n",
    "    for col in columns:\n",
    "        print(col)\n",
    "        lr = LogisticRegressionSpark(featuresCol=\"features\", labelCol=col, regParam=0.1)    \n",
    "        print(\"...fitting\")\n",
    "        lrModel = lr.fit(train_tfidf)\n",
    "        print(\"...predicting\")\n",
    "        res = lrModel.transform(test_tfidf)\n",
    "        print(\"...appending result\")\n",
    "        \n",
    "        evaluator = MulticlassClassificationEvaluator(\n",
    "        labelCol=col, predictionCol=\"prediction\", metricName=\"accuracy\")\n",
    "        accuracy = evaluator.evaluate(res)\n",
    "        print(\"Accuracy =\", accuracy)\n",
    "        print(\"Test Error = %g\" % (1.0 - accuracy))\n",
    "        errors.append((1.0 - accuracy))\n",
    "    time_fin_5 = time.time()\n",
    "    print('Learning time in seconds :', (time_fin_5 - time_init_5))\n",
    "    \n",
    "    # Saving time values & test error\n",
    "    cleaning_time = (time_fin_2 - time_init_2)\n",
    "    vectorization_time = (time_fin_1 - time_init_1) + (time_fin_3 - time_init_3) + (time_fin_4 - time_init_4)\n",
    "    learning_time = (time_fin_5 - time_init_5) \n",
    "    \n",
    "    return cleaning_time, vectorization_time, learning_time, errors"
   ]
  },
  {
   "cell_type": "markdown",
   "metadata": {},
   "source": [
    "### Running the algorithm\n",
    "\n",
    "> convert_to_spark_df function takes path of the data as input and returns a Spark DataFrame as output\n",
    "\n",
    "> Input :\n",
    ">> path : Path of the data\n",
    "\n",
    "> get_time_and_error function takes the data and parameters about cleaning, vectorization \n",
    "> as input and it returns different running times (Cleaning time, vectorization time \n",
    "> and learning time) and accuracies as output\n",
    "\n",
    "> Input :\n",
    ">> data : Data we work on - Spark DataFrame\n",
    "\n",
    ">> nb_samples : Size of the data to limit\n",
    "\n",
    ">> num_features : n_hash, limit number of features"
   ]
  },
  {
   "cell_type": "markdown",
   "metadata": {},
   "source": [
    "### Parameters"
   ]
  },
  {
   "cell_type": "code",
   "execution_count": 6,
   "metadata": {
    "collapsed": true
   },
   "outputs": [],
   "source": [
    "#Choose parameters\n",
    "nb_samples = 30000\n",
    "num_features = 1000\n",
    "path = '/Users/Carmemac/Desktop/all/train.csv'"
   ]
  },
  {
   "cell_type": "markdown",
   "metadata": {},
   "source": [
    "### Load the data"
   ]
  },
  {
   "cell_type": "code",
   "execution_count": 7,
   "metadata": {
    "collapsed": true
   },
   "outputs": [],
   "source": [
    "data = convert_to_spark_df(path)"
   ]
  },
  {
   "cell_type": "markdown",
   "metadata": {},
   "source": [
    "### Prediction"
   ]
  },
  {
   "cell_type": "code",
   "execution_count": 8,
   "metadata": {},
   "outputs": [
    {
     "name": "stdout",
     "output_type": "stream",
     "text": [
      "Number of samples 30000\n",
      "Number of features 1000\n",
      "Number of comments in the training set: 22315\n",
      "Number of comments in the test set: 7685\n",
      "Tokenization time in seconds : 0.1081230640411377\n",
      "Cleaning time in seconds : 0.5108001232147217\n",
      "HashingTF time in seconds : 0.1218407154083252\n",
      "IDF time in seconds : 4.634544849395752\n",
      "toxic\n",
      "...fitting\n",
      "...predicting\n",
      "...appending result\n",
      "Accuracy = 0.9008458035133377\n",
      "Test Error = 0.0991542\n",
      "severe_toxic\n",
      "...fitting\n",
      "...predicting\n",
      "...appending result\n",
      "Accuracy = 0.9903708523096942\n",
      "Test Error = 0.00962915\n",
      "obscene\n",
      "...fitting\n",
      "...predicting\n",
      "...appending result\n",
      "Accuracy = 0.9465191932335719\n",
      "Test Error = 0.0534808\n",
      "threat\n",
      "...fitting\n",
      "...predicting\n",
      "...appending result\n",
      "Accuracy = 0.997007156798959\n",
      "Test Error = 0.00299284\n",
      "insult\n",
      "...fitting\n",
      "...predicting\n",
      "...appending result\n",
      "Accuracy = 0.9513337670787247\n",
      "Test Error = 0.0486662\n",
      "identity_hate\n",
      "...fitting\n",
      "...predicting\n",
      "...appending result\n",
      "Accuracy = 0.991021470396877\n",
      "Test Error = 0.00897853\n",
      "Learning time in seconds : 51.72393870353699\n"
     ]
    },
    {
     "data": {
      "text/plain": [
       "(0.5108001232147217,\n",
       " 4.864508628845215,\n",
       " 51.72393870353699,\n",
       " [0.09915419648666235,\n",
       "  0.009629147690305762,\n",
       "  0.05348080676642808,\n",
       "  0.0029928432010409844,\n",
       "  0.048666232921275254,\n",
       "  0.008978529603122953])"
      ]
     },
     "execution_count": 8,
     "metadata": {},
     "output_type": "execute_result"
    }
   ],
   "source": [
    "get_time_and_error(data, nb_samples, num_features)"
   ]
  },
  {
   "cell_type": "markdown",
   "metadata": {
    "collapsed": true
   },
   "source": [
    "# PLOTS "
   ]
  },
  {
   "cell_type": "code",
   "execution_count": 12,
   "metadata": {},
   "outputs": [
    {
     "data": {
      "image/png": "[encoded data removed]",
      "text/plain": [
       "<matplotlib.figure.Figure at 0x1a0da338d0>"
      ]
     },
     "metadata": {},
     "output_type": "display_data"
    }
   ],
   "source": [
    "# Cleaning time\n",
    "sample_size = [30000, 60000, 90000, 120000, 160000]\n",
    "spark_2instances = [0.40718579292297363,0.1423196792602539,0.14638495445251465,0.14662694931030273,0.1470320224761963]\n",
    "spark_8instances = [0.14103293418884277,0.14890074729919434,0.1599559783935547,0.14829301834106445,0.142625093460083]\n",
    "python_1 = [8.74,15.25, 21.80,28.63,37.63]\n",
    "\n",
    "plt.xscale('log')\n",
    "plt.xlabel('Number of samples')\n",
    "plt.ylabel('Cleaning time (in seconds)')\n",
    "plt.plot(sample_size, spark_2instances, 'k')\n",
    "plt.plot(sample_size, spark_8instances, 'b')\n",
    "plt.plot(sample_size, python_1, 'g')\n",
    "plt.legend(['2 executors - MLlib', '8 executors - MLlib', '1 process - python'])\n",
    "plt.savefig('clean')\n",
    "plt.show()"
   ]
  },
  {
   "cell_type": "code",
   "execution_count": 13,
   "metadata": {},
   "outputs": [
    {
     "data": {
      "image/png": "[encoded data removed]",
      "text/plain": [
       "<matplotlib.figure.Figure at 0x1a275734a8>"
      ]
     },
     "metadata": {},
     "output_type": "display_data"
    }
   ],
   "source": [
    "# Vectorization time\n",
    "spark_2instances = [5.391401290893555,7.314995050430298,9.915636777877808,12.319015502929688,14.512500524520874]\n",
    "spark_8instances = [2.720379114151001,2.533787965774536,2.5524580478668213,2.5305747985839844,2.358982801437378]\n",
    "python_1 = [4.92,8.84, 14.47,20.18,27.97]\n",
    "\n",
    "plt.xscale('log')\n",
    "plt.xlabel('Number of samples')\n",
    "plt.ylabel('Vectorization time (in seconds)')\n",
    "plt.plot(sample_size, spark_2instances, 'k')\n",
    "plt.plot(sample_size, spark_8instances, 'b')\n",
    "plt.plot(sample_size, python_1, 'g')\n",
    "plt.legend(['2 executors - MLlib', '8 executors - MLlib', '1 process - python'])\n",
    "plt.savefig('vect')\n",
    "plt.show()"
   ]
  },
  {
   "cell_type": "code",
   "execution_count": 14,
   "metadata": {},
   "outputs": [
    {
     "data": {
      "image/png": "[encoded data removed]",
      "text/plain": [
       "<matplotlib.figure.Figure at 0x1a147c5ac8>"
      ]
     },
     "metadata": {},
     "output_type": "display_data"
    }
   ],
   "source": [
    "# Learning time\n",
    "spark_2instances = [80.47699809074402,138.03380799293518,125.44569706916809,152.55336689949036,180.56784915924072]\n",
    "spark_8instances = [36.01354718208313,35.721843957901,33.485682010650635,32.8361132144928,33.3182909488678]\n",
    "python_1 = [40.32,102.14,177.73,281.43,449.68]\n",
    "\n",
    "plt.xscale('log')\n",
    "plt.xlabel('Number of samples')\n",
    "plt.ylabel('Learning time (in seconds)')\n",
    "plt.plot(sample_size, spark_2instances, 'k')\n",
    "plt.plot(sample_size, spark_8instances, 'b')\n",
    "plt.plot(sample_size, python_1, 'g')\n",
    "plt.legend(['2 executors - MLlib', '8 executors - MLlib', '1 process - python'])\n",
    "plt.savefig('learn')\n",
    "plt.show()"
   ]
  },
  {
   "cell_type": "code",
   "execution_count": 15,
   "metadata": {},
   "outputs": [
    {
     "data": {
      "image/png": "[encoded data removed]",
      "text/plain": [
       "<matplotlib.figure.Figure at 0x1a13ec9710>"
      ]
     },
     "metadata": {},
     "output_type": "display_data"
    }
   ],
   "source": [
    "# SPARK: Learning time & Error for different n_hash\n",
    "n_hash_500_time = [33.78788423538208,32.53039312362671,32.265034198760986,33.29247713088989,33.36445713043213]\n",
    "n_hash_500_errors = [[0.09895525330179378,0.010447466982061893,0.0559826532623694,0.00275970825941263,0.05006899270648535,0.008476246796767173],\n",
    "                    [0.09895525330179378,0.010447466982061893,0.0559826532623694,0.00275970825941263,0.05006899270648535,0.008476246796767173],\n",
    "                    [0.09895525330179378,0.010447466982061893,0.0559826532623694,0.00275970825941263,0.05006899270648535,0.008476246796767173],\n",
    "                    [0.09895525330179378,0.010447466982061893,0.0559826532623694,0.00275970825941263,0.05006899270648535,0.008476246796767173],\n",
    "                    [0.09895525330179378,0.010447466982061893,0.0559826532623694,0.00275970825941263,0.05006899270648535,0.008476246796767173]]\n",
    "toxic_500 = [0.09895525330179378, 0.09895525330179378, 0.09895525330179378, 0.09895525330179378, 0.09895525330179378]\n",
    "\n",
    "n_hash_2000_time = [32.05272197723389,31.81455683708191,35.010658979415894,35.98698282241821,35.89908194541931]\n",
    "n_hash_2000_errors = [[0.09639266706091065,0.010250344963532387,0.05479992115119259,0.00275970825941263,0.04967474866942634,0.008476246796767173],\n",
    "                      [0.09639266706091065,0.010250344963532387,0.05479992115119259,0.00275970825941263,0.04967474866942634,0.008476246796767173],\n",
    "                      [0.09639266706091065,0.010250344963532387,0.05479992115119259,0.00275970825941263,0.04967474866942634,0.008476246796767173],\n",
    "                      [0.09639266706091065,0.010250344963532387,0.05479992115119259,0.00275970825941263,0.04967474866942634,0.008476246796767173],\n",
    "                      [0.09639266706091065,0.010250344963532387,0.05479992115119259,0.00275970825941263,0.04967474866942634,0.008476246796767173]]\n",
    "toxic_2000 = [0.09639266706091065, 0.0963926670609106, 0.0963926670609106, 0.0963926670609106, 0.0963926670609106]\n",
    "\n",
    "n_hash_10000_time = [33.46143198013306,33.44811487197876,34.69556665420532,36.13101410865784,35.48853898048401]\n",
    "n_hash_10000_errors = [[0.0900847624679677,0.010250344963532387,  0.05243445692883897,0.0031539522964715294,0.04691504041001382,0.008476246796767173],\n",
    "                      [0.0900847624679677,0.010250344963532387,0.05243445692883897,0.0031539522964715294,0.04691504041001382,0.008476246796767173],\n",
    "                      [0.0900847624679677,0.010250344963532387,0.05243445692883897,0.0031539522964715294,0.04691504041001382,0.008476246796767173],\n",
    "                      [0.0900847624679677,0.010250344963532387,0.05243445692883897,0.0031539522964715294,0.04691504041001382,0.008476246796767173],\n",
    "                      [0.0900847624679677,0.010250344963532387,0.05243445692883897,0.0031539522964715294,0.04691504041001382,0.008476246796767173]]\n",
    "toxic_10000 = [0.0900847624679677, 0.0900847624679677, 0.0900847624679677, 0.0900847624679677, 0.0900847624679677]\n",
    "\n",
    "#plt.xscale('log')\n",
    "#plt.plot(sample_size, n_hash_500_time, 'k')\n",
    "#plt.plot(sample_size, n_hash_2000_time, 'g')\n",
    "#plt.plot(sample_size, n_hash_10000_time, 'b')\n",
    "\n",
    "plt.xscale('log')\n",
    "\n",
    "plt.xlabel('Number of samples')\n",
    "#plt.ylabel('Learning time')\n",
    "plt.ylabel('Test Error (%)')\n",
    "\n",
    "plt.plot(sample_size, toxic_500)\n",
    "plt.plot(sample_size, toxic_2000)\n",
    "plt.plot(sample_size, toxic_10000)\n",
    "\n",
    "#plt.plot(sample_size, n_hash_500_time)\n",
    "#plt.plot(sample_size, n_hash_2000_time)\n",
    "#plt.plot(sample_size, n_hash_10000_time)\n",
    "\n",
    "plt.legend(['n_hash=500', 'n_hash=2000', 'n_hash=10000'])\n",
    "#plt.savefig('spark_time_hash')\n",
    "plt.savefig('spark_error_hash')\n",
    "plt.show()"
   ]
  },
  {
   "cell_type": "code",
   "execution_count": 16,
   "metadata": {},
   "outputs": [
    {
     "data": {
      "image/png": "[encoded data removed]",
      "text/plain": [
       "<matplotlib.figure.Figure at 0x1a1355dba8>"
      ]
     },
     "metadata": {},
     "output_type": "display_data"
    }
   ],
   "source": [
    "# Python: Learning time & Error for different n_hash\n",
    "n_hash_500_time = [11.27,17.08, 21.49, 29.75,46.42]\n",
    "n_hash_500_errors = [[0.08067542213883683, 0.00964888769766814, 0.040203698740284066, 0.0028142589118198558, 0.04087376038595547, 0.008844813722862499], \n",
    "                     [0.08251633986928109, 0.0099400871459695, 0.041122004357298514, 0.0038807189542483522, 0.042211328976034856, 0.007965686274509776],\n",
    "                     [0.07913142857142852, 0.01001142857142856, 0.03958857142857142, 0.002422857142857171, 0.04251428571428573, 0.007908571428571376],\n",
    "                     [0.07622841053462903, 0.009820416852659442, 0.03777083404869008, 0.002300587164783874, 0.04072382652886031, 0.007485492566013163], \n",
    "                     [0.07792949483412082, 0.010669227973625461, 0.03953584964435908, 0.0028814703286433874, 0.040496339753906874, 0.007813716837132056]]\n",
    "toxic_500 = [0.08067542213883683,0.08251633986928109, 0.07913142857142852, 0.07622841053462903, 0.07792949483412082]\n",
    "\n",
    "n_hash_2000_time = [25.15, 69.09 ,125.35 ,188.05 ,260.81 ]\n",
    "n_hash_2000_errors = [[0.06913248150638873, 0.009818426361802302, 0.03712172158708815, 0.0036314727639542577, 0.04303967720242097, 0.008473436449226601], \n",
    "                      [0.0703323928153603, 0.010666850182368681, 0.03530383318422681, 0.003234464248847324, 0.03998348358681436, 0.00929048241690178], \n",
    "                      [0.06446258126988513, 0.010052104947664509, 0.030894084013464274, 0.003135518974500817, 0.03684234795038499, 0.00806935030202427], \n",
    "                      [0.06390507910074938, 0.010720233139050794, 0.03125867332778243, 0.0027754648903691725, 0.03663613655287257, 0.008569247849014694], \n",
    "                      [0.06501571921867755, 0.009122300675153294, 0.03136112972220795, 0.00278307478225015, 0.03556151110652994, 0.008194609081069948]]\n",
    "toxic_2000 = [0.06913248150638873, 0.0703323928153603, 0.06446258126988513, 0.06390507910074938, 0.06501571921867755]\n",
    "\n",
    "n_hash_5000_time = [70.82,186.64 ,352.26,534.49,1085.64]\n",
    "n_hash_5000_acc = [[0.93272171253822633, 0.99068668334723375, 0.96580483736447043, 0.99735891020294687, 0.96038365304420348, 0.99054767862107307],\n",
    "[0.93473306167553005, 0.99067615166793288, 0.96892050555977627, 0.99599419849437121, 0.962635541128531, 0.99088334829753433],\n",
    "[0.93611479230452865, 0.9903578120001828, 0.96837727916647631, 0.99638989169675085, 0.96394461454096791, 0.99127176346935975],\n",
    "[0.93966407379362571, 0.99105114614166723, 0.97070971294830311, 0.99679906381221173, 0.96392923521718177, 0.99101672747298131],\n",
    "[0.93963301809210531, 0.98984888980263153, 0.96923828125, 0.99704461348684215, 0.96466385690789469, 0.99141652960526316]]\n",
    "toxic_5000 = [1-0.93272171253822633, 1-0.93473306167553005, 1-0.93611479230452865, 1-0.93966407379362571, 1-0.93963301809210531]\n",
    "\n",
    "plt.xscale('log')\n",
    "\n",
    "plt.xlabel('Number of samples')\n",
    "#plt.ylabel('Learning time')\n",
    "plt.ylabel('Test Error (%)')\n",
    "\n",
    "#plt.plot(sample_size, n_hash_500_time)\n",
    "#plt.plot(sample_size, n_hash_2000_time)\n",
    "#plt.plot(sample_size, n_hash_5000_time)\n",
    "\n",
    "plt.plot(sample_size, toxic_500)\n",
    "plt.plot(sample_size, toxic_2000)\n",
    "plt.plot(sample_size, toxic_5000)\n",
    "\n",
    "plt.legend(['n_hash=500', 'n_hash=2000', 'n_hash=5000'])\n",
    "#plt.savefig('python_time_hash')\n",
    "plt.savefig('python_error_hash')\n",
    "plt.show()"
   ]
  },
  {
   "cell_type": "code",
   "execution_count": null,
   "metadata": {
    "collapsed": true
   },
   "outputs": [],
   "source": []
  }
 ],
 "metadata": {
  "kernelspec": {
   "display_name": "Python 3",
   "language": "python",
   "name": "python3"
  },
  "language_info": {
   "codemirror_mode": {
    "name": "ipython",
    "version": 3
   },
   "file_extension": ".py",
   "mimetype": "text/x-python",
   "name": "python",
   "nbconvert_exporter": "python",
   "pygments_lexer": "ipython3",
   "version": "3.6.6"
  }
 },
 "nbformat": 4,
 "nbformat_minor": 2
}
